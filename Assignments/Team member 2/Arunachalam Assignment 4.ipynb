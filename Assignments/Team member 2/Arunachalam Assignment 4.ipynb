{
  "cells": [
    {
      "cell_type": "code",
      "execution_count": null,
      "metadata": {
        "id": "QBobxgw-AhoJ"
      },
      "outputs": [],
      "source": [
        "import pandas as pd"
      ]
    },
    {
      "cell_type": "code",
      "execution_count": null,
      "metadata": {
        "id": "es8NiMoiAhoK",
        "outputId": "9616afc9-9392-4c7d-d3fe-ad5d87bf7c65"
      },
      "outputs": [
        {
          "name": "stdout",
          "output_type": "stream",
          "text": [
            "     v1                                                 v2 Unnamed: 2  \\\n",
            "0   ham  Go until jurong point, crazy.. Available only ...        NaN   \n",
            "1   ham                      Ok lar... Joking wif u oni...        NaN   \n",
            "2  spam  Free entry in 2 a wkly comp to win FA Cup fina...        NaN   \n",
            "3   ham  U dun say so early hor... U c already then say...        NaN   \n",
            "4   ham  Nah I don't think he goes to usf, he lives aro...        NaN   \n",
            "\n",
            "  Unnamed: 3 Unnamed: 4  \n",
            "0        NaN        NaN  \n",
            "1        NaN        NaN  \n",
            "2        NaN        NaN  \n",
            "3        NaN        NaN  \n",
            "4        NaN        NaN  \n",
            "<class 'pandas.core.frame.DataFrame'>\n",
            "RangeIndex: 5572 entries, 0 to 5571\n",
            "Data columns (total 5 columns):\n",
            " #   Column      Non-Null Count  Dtype \n",
            "---  ------      --------------  ----- \n",
            " 0   v1          5572 non-null   object\n",
            " 1   v2          5572 non-null   object\n",
            " 2   Unnamed: 2  50 non-null     object\n",
            " 3   Unnamed: 3  12 non-null     object\n",
            " 4   Unnamed: 4  6 non-null      object\n",
            "dtypes: object(5)\n",
            "memory usage: 217.8+ KB\n",
            "None\n"
          ]
        }
      ],
      "source": [
        "dataset = pd.read_csv('/home/user/Downloads/spam.csv', encoding='latin-1')\n",
        "print(dataset.head())\n",
        "print(dataset.info())"
      ]
    },
    {
      "cell_type": "code",
      "execution_count": null,
      "metadata": {
        "id": "VkqGytyoAhoM"
      },
      "outputs": [],
      "source": [
        "import matplotlib.pyplot as plt\n",
        "import seaborn as sns"
      ]
    },
    {
      "cell_type": "code",
      "execution_count": null,
      "metadata": {
        "id": "5-hQReV9AhoN",
        "outputId": "6ee45fbf-bea3-4bdd-f40c-363642131430"
      },
      "outputs": [
        {
          "data": {
            "text/plain": [
              "<AxesSubplot: xlabel='v1', ylabel='count'>"
            ]
          },
          "execution_count": 4,
          "metadata": {},
          "output_type": "execute_result"
        },
        {
          "data": {
            "image/png": "[encoded data removed]",
            "text/plain": [
              "<Figure size 640x480 with 1 Axes>"
            ]
          },
          "metadata": {},
          "output_type": "display_data"
        }
      ],
      "source": [
        "sns.countplot(data=dataset, x=dataset['v1'])"
      ]
    },
    {
      "cell_type": "code",
      "execution_count": null,
      "metadata": {
        "id": "ZB4dNvUsAhoO"
      },
      "outputs": [],
      "source": [
        "text = dataset.loc[:, 'v2']\n",
        "classification = dataset.loc[:, 'v1']"
      ]
    },
    {
      "cell_type": "code",
      "execution_count": null,
      "metadata": {
        "id": "nkz0xro3AhoP",
        "outputId": "2f5eebb1-c813-43bf-a52b-ef86b840662c"
      },
      "outputs": [
        {
          "name": "stdout",
          "output_type": "stream",
          "text": [
            "0       Go until jurong point, crazy.. Available only ...\n",
            "1                           Ok lar... Joking wif u oni...\n",
            "2       Free entry in 2 a wkly comp to win FA Cup fina...\n",
            "3       U dun say so early hor... U c already then say...\n",
            "4       Nah I don't think he goes to usf, he lives aro...\n",
            "                              ...                        \n",
            "5567    This is the 2nd time we have tried 2 contact u...\n",
            "5568                Will Ì_ b going to esplanade fr home?\n",
            "5569    Pity, * was in mood for that. So...any other s...\n",
            "5570    The guy did some bitching but I acted like i'd...\n",
            "5571                           Rofl. Its true to its name\n",
            "Name: v2, Length: 5572, dtype: object\n",
            "0        ham\n",
            "1        ham\n",
            "2       spam\n",
            "3        ham\n",
            "4        ham\n",
            "        ... \n",
            "5567    spam\n",
            "5568     ham\n",
            "5569     ham\n",
            "5570     ham\n",
            "5571     ham\n",
            "Name: v1, Length: 5572, dtype: object\n"
          ]
        }
      ],
      "source": [
        "print(text)\n",
        "print(classification)"
      ]
    },
    {
      "cell_type": "code",
      "execution_count": null,
      "metadata": {
        "id": "j-0nnOltAhoQ"
      },
      "outputs": [],
      "source": [
        "from nltk import word_tokenize\n",
        "from sklearn.model_selection import train_test_split\n",
        "import nltk\n"
      ]
    },
    {
      "cell_type": "code",
      "execution_count": null,
      "metadata": {
        "id": "7xOZ6GPPAhoR"
      },
      "outputs": [],
      "source": [
        "x_train, x_test, y_train, y_test = train_test_split(text, classification, test_size=0.2, random_state=42)"
      ]
    },
    {
      "cell_type": "code",
      "execution_count": null,
      "metadata": {
        "id": "W7z62OX1AhoS"
      },
      "outputs": [],
      "source": [
        "text_length = []\n",
        "for i in x_train :\n",
        "    text_length.append(len(word_tokenize(i)))"
      ]
    },
    {
      "cell_type": "code",
      "execution_count": null,
      "metadata": {
        "id": "HnI-i2agAhoU",
        "outputId": "375c0f38-3376-40eb-873a-ac7e57a24966"
      },
      "outputs": [
        {
          "name": "stdout",
          "output_type": "stream",
          "text": [
            "220\n"
          ]
        }
      ],
      "source": [
        "print(max(text_length))"
      ]
    },
    {
      "cell_type": "code",
      "execution_count": null,
      "metadata": {
        "id": "2ABQBiybAhoV",
        "outputId": "1635bb10-d950-45ae-ff94-67b059df3d93"
      },
      "outputs": [
        {
          "name": "stderr",
          "output_type": "stream",
          "text": [
            "2022-10-29 17:32:15.284252: I tensorflow/core/platform/cpu_feature_guard.cc:193] This TensorFlow binary is optimized with oneAPI Deep Neural Network Library (oneDNN) to use the following CPU instructions in performance-critical operations:  AVX2 FMA\n",
            "To enable them in other operations, rebuild TensorFlow with the appropriate compiler flags.\n",
            "2022-10-29 17:32:15.716683: E tensorflow/stream_executor/cuda/cuda_blas.cc:2981] Unable to register cuBLAS factory: Attempting to register factory for plugin cuBLAS when one has already been registered\n",
            "2022-10-29 17:32:16.743982: W tensorflow/stream_executor/platform/default/dso_loader.cc:64] Could not load dynamic library 'libnvinfer.so.7'; dlerror: libnvinfer.so.7: cannot open shared object file: No such file or directory\n",
            "2022-10-29 17:32:16.744122: W tensorflow/stream_executor/platform/default/dso_loader.cc:64] Could not load dynamic library 'libnvinfer_plugin.so.7'; dlerror: libnvinfer_plugin.so.7: cannot open shared object file: No such file or directory\n",
            "2022-10-29 17:32:16.744129: W tensorflow/compiler/tf2tensorrt/utils/py_utils.cc:38] TF-TRT Warning: Cannot dlopen some TensorRT libraries. If you would like to use Nvidia GPU with TensorRT, please make sure the missing libraries mentioned above are installed properly.\n"
          ]
        }
      ],
      "source": [
        "from keras.preprocessing.text import Tokenizer"
      ]
    },
    {
      "cell_type": "code",
      "execution_count": null,
      "metadata": {
        "id": "W8a3jYrPAhoV"
      },
      "outputs": [],
      "source": [
        "max_sequence_length = 38\n",
        "\n",
        "tok = Tokenizer()\n",
        "tok.fit_on_texts(x_train.values)"
      ]
    },
    {
      "cell_type": "code",
      "execution_count": null,
      "metadata": {
        "id": "mAStgqNTAhoW"
      },
      "outputs": [],
      "source": [
        "vocab_length = len(tok.word_index)"
      ]
    },
    {
      "cell_type": "code",
      "execution_count": null,
      "metadata": {
        "id": "58mZutTCAhoX"
      },
      "outputs": [],
      "source": [
        "x_train_sequences = tok.texts_to_sequences(x_train.values)\n",
        "x_test_sequences = tok.texts_to_sequences(x_test.values)"
      ]
    },
    {
      "cell_type": "code",
      "execution_count": null,
      "metadata": {
        "id": "1ehZ7OnAAhoY"
      },
      "outputs": [],
      "source": [
        "from tensorflow.keras.utils import pad_sequences"
      ]
    },
    {
      "cell_type": "code",
      "execution_count": null,
      "metadata": {
        "id": "nWSEEMX3AhoY",
        "outputId": "b7a4375b-b5fd-49e1-9a23-bf9a9cf469f8"
      },
      "outputs": [
        {
          "data": {
            "text/plain": [
              "array([[   0,    0,    0,    0,    0,    0,    0,    0,    0,    0,    0,\n",
              "           0,    0,    0,    0,    0,    0,    0,    0,   38,   30,    8,\n",
              "           5,  273, 1989,   81,  116,   26,   11, 1656,  322,   10,   53,\n",
              "          18,  299,   30,  349, 1990],\n",
              "       [   0,    0,    0,    0,    0,    0,    0,    0,    0,    0,    0,\n",
              "           0,    0,    0,    0,  799,   15, 2555, 1442, 1127,  192, 2556,\n",
              "         171,   12,   98, 1991,   44,  195, 1657, 2557, 1992, 2558,   21,\n",
              "           9,    4,  203, 1025,  225]], dtype=int32)"
            ]
          },
          "execution_count": 24,
          "metadata": {},
          "output_type": "execute_result"
        }
      ],
      "source": [
        "x_train = pad_sequences(x_train_sequences, maxlen=max_sequence_length)\n",
        "x_test = pad_sequences(x_test_sequences, maxlen=max_sequence_length)\n"
      ]
    },
    {
      "cell_type": "code",
      "execution_count": null,
      "metadata": {
        "id": "986bbZ0BAhoZ",
        "outputId": "bd5cd3ec-b470-4220-b1ac-b0314f713aff"
      },
      "outputs": [
        {
          "data": {
            "text/plain": [
              "array([[   0,    0,    0,    0,    0,    0,    0,    0,    0,    0,    0,\n",
              "           0,    0,    0,    0,    0,    0,    0,    0,   38,   30,    8,\n",
              "           5,  273, 1989,   81,  116,   26,   11, 1656,  322,   10,   53,\n",
              "          18,  299,   30,  349, 1990],\n",
              "       [   0,    0,    0,    0,    0,    0,    0,    0,    0,    0,    0,\n",
              "           0,    0,    0,    0,  799,   15, 2555, 1442, 1127,  192, 2556,\n",
              "         171,   12,   98, 1991,   44,  195, 1657, 2557, 1992, 2558,   21,\n",
              "           9,    4,  203, 1025,  225]], dtype=int32)"
            ]
          },
          "execution_count": 25,
          "metadata": {},
          "output_type": "execute_result"
        }
      ],
      "source": [
        "x_train[:2]"
      ]
    },
    {
      "cell_type": "code",
      "execution_count": null,
      "metadata": {
        "id": "N54R5zJEAhoa",
        "outputId": "9ff6eb5d-39d5-4c09-ab89-3b05410aa1cb"
      },
      "outputs": [
        {
          "data": {
            "text/plain": [
              "array(['ham', 'spam', 'ham', ..., 'ham', 'ham', 'ham'], dtype=object)"
            ]
          },
          "execution_count": 26,
          "metadata": {},
          "output_type": "execute_result"
        }
      ],
      "source": [
        "y_train.values"
      ]
    },
    {
      "cell_type": "code",
      "execution_count": null,
      "metadata": {
        "id": "KHED_S9EAhob"
      },
      "outputs": [],
      "source": [
        "from sklearn.preprocessing import LabelEncoder"
      ]
    },
    {
      "cell_type": "code",
      "execution_count": null,
      "metadata": {
        "id": "Lk5RHV14Ahoc",
        "outputId": "6ba2efb2-80ab-4857-eccd-cfcb1fd1a6f1"
      },
      "outputs": [
        {
          "name": "stdout",
          "output_type": "stream",
          "text": [
            "[0 1 0 ... 0 0 0]\n"
          ]
        }
      ],
      "source": [
        "le = LabelEncoder()\n",
        "y_train = le.fit_transform(y_train)\n",
        "y_test = le.fit_transform(y_test)\n",
        "print(y_train)"
      ]
    },
    {
      "cell_type": "code",
      "execution_count": null,
      "metadata": {
        "id": "ePVSeUItAhod"
      },
      "outputs": [],
      "source": [
        "from keras.models import Model, load_model\n",
        "from keras.layers import LSTM, Activation, Dense, Dropout, Input, Embedding\n",
        "from keras.optimizers import RMSprop"
      ]
    },
    {
      "cell_type": "code",
      "execution_count": null,
      "metadata": {
        "id": "rg0IGCSZAhoe",
        "outputId": "12c9ee79-4e2d-4d4a-e4f9-990ab1b34426"
      },
      "outputs": [
        {
          "name": "stdout",
          "output_type": "stream",
          "text": [
            "Model: \"model_1\"\n",
            "_________________________________________________________________\n",
            " Layer (type)                Output Shape              Param #   \n",
            "=================================================================\n",
            " inputs (InputLayer)         [(None, 38)]              0         \n",
            "                                                                 \n",
            " embedding_1 (Embedding)     (None, 38, 50)            397750    \n",
            "                                                                 \n",
            " lstm_1 (LSTM)               (None, 64)                29440     \n",
            "                                                                 \n",
            " FC1 (Dense)                 (None, 256)               16640     \n",
            "                                                                 \n",
            " activation_2 (Activation)   (None, 256)               0         \n",
            "                                                                 \n",
            " dropout_1 (Dropout)         (None, 256)               0         \n",
            "                                                                 \n",
            " out_layer (Dense)           (None, 1)                 257       \n",
            "                                                                 \n",
            " activation_3 (Activation)   (None, 1)                 0         \n",
            "                                                                 \n",
            "=================================================================\n",
            "Total params: 444,087\n",
            "Trainable params: 444,087\n",
            "Non-trainable params: 0\n",
            "_________________________________________________________________\n"
          ]
        }
      ],
      "source": [
        "def create_model(vocab_len, max_seq_len):\n",
        "    inputs = Input(name='inputs', shape=[max_seq_len])   #None, 150\n",
        "    layer = Embedding(vocab_length + 1, 50, input_length=max_seq_len)(inputs) #None, 150, 50\n",
        "    layer = LSTM(64)(layer)  #None, 64\n",
        "    layer = Dense(256,name='FC1')(layer) #None, 256\n",
        "    layer = Activation('relu')(layer) #None, 256\n",
        "    layer = Dropout(0.5)(layer) #None, 256\n",
        "    layer = Dense(1,name='out_layer')(layer) #None, 1\n",
        "    layer = Activation('sigmoid')(layer) #None, 1\n",
        "    model = Model(inputs=inputs,outputs=layer)\n",
        "    model.compile(loss='binary_crossentropy',optimizer=RMSprop(), metrics=['acc'])\n",
        "    return model\n",
        "\n",
        "model = create_model(vocab_length, max_sequence_length)\n",
        "model.summary()"
      ]
    },
    {
      "cell_type": "code",
      "execution_count": null,
      "metadata": {
        "id": "npe5OEzzAhof"
      },
      "outputs": [],
      "source": [
        "from keras.callbacks import EarlyStopping, ModelCheckpoint, TensorBoard"
      ]
    },
    {
      "cell_type": "code",
      "execution_count": null,
      "metadata": {
        "id": "1BqCRXwOAhof",
        "outputId": "d9b71075-0afa-4ce3-8b3b-e9a64d6304ae"
      },
      "outputs": [
        {
          "name": "stdout",
          "output_type": "stream",
          "text": [
            "Epoch 1/20\n"
          ]
        },
        {
          "name": "stderr",
          "output_type": "stream",
          "text": [
            "2022-10-29 17:41:31.791775: I tensorflow/stream_executor/cuda/cuda_dnn.cc:384] Loaded cuDNN version 8500\n",
            "2022-10-29 17:41:32.091259: I tensorflow/stream_executor/cuda/cuda_blas.cc:1614] TensorFloat-32 will be used for the matrix multiplication. This will only be logged once.\n"
          ]
        },
        {
          "name": "stdout",
          "output_type": "stream",
          "text": [
            "28/28 [==============================] - 6s 25ms/step - loss: 0.2999 - acc: 0.8819 - val_loss: 0.1531 - val_acc: 0.9563\n",
            "Epoch 2/20\n",
            "28/28 [==============================] - 0s 8ms/step - loss: 0.0851 - acc: 0.9823 - val_loss: 0.0527 - val_acc: 0.9854\n",
            "Epoch 3/20\n",
            "28/28 [==============================] - 0s 8ms/step - loss: 0.0282 - acc: 0.9919 - val_loss: 0.0530 - val_acc: 0.9854\n",
            "Epoch 4/20\n",
            "28/28 [==============================] - 0s 7ms/step - loss: 0.0186 - acc: 0.9955 - val_loss: 0.0430 - val_acc: 0.9877\n",
            "Epoch 5/20\n",
            "28/28 [==============================] - 0s 7ms/step - loss: 0.0094 - acc: 0.9966 - val_loss: 0.0551 - val_acc: 0.9877\n",
            "Epoch 6/20\n",
            "28/28 [==============================] - 0s 8ms/step - loss: 0.0056 - acc: 0.9978 - val_loss: 0.0681 - val_acc: 0.9854\n",
            "Epoch 7/20\n",
            "28/28 [==============================] - 0s 7ms/step - loss: 0.0013 - acc: 0.9997 - val_loss: 0.0710 - val_acc: 0.9865\n",
            "Epoch 8/20\n",
            "28/28 [==============================] - 0s 7ms/step - loss: 1.2902e-04 - acc: 1.0000 - val_loss: 0.0891 - val_acc: 0.9899\n",
            "Epoch 9/20\n",
            "28/28 [==============================] - 0s 10ms/step - loss: 0.0015 - acc: 0.9994 - val_loss: 0.0751 - val_acc: 0.9865\n",
            "Epoch 10/20\n",
            "28/28 [==============================] - 0s 7ms/step - loss: 1.2946e-04 - acc: 1.0000 - val_loss: 0.0951 - val_acc: 0.9854\n",
            "Epoch 11/20\n",
            "28/28 [==============================] - 0s 7ms/step - loss: 1.2522e-05 - acc: 1.0000 - val_loss: 0.1040 - val_acc: 0.9854\n",
            "Epoch 12/20\n",
            "28/28 [==============================] - 0s 8ms/step - loss: 4.1559e-06 - acc: 1.0000 - val_loss: 0.1131 - val_acc: 0.9865\n",
            "Epoch 13/20\n",
            "28/28 [==============================] - 0s 7ms/step - loss: 5.4751e-07 - acc: 1.0000 - val_loss: 0.1356 - val_acc: 0.9865\n",
            "Epoch 14/20\n",
            "28/28 [==============================] - 0s 7ms/step - loss: 2.0658e-07 - acc: 1.0000 - val_loss: 0.1262 - val_acc: 0.9877\n",
            "Epoch 15/20\n",
            "28/28 [==============================] - 0s 7ms/step - loss: 4.7706e-08 - acc: 1.0000 - val_loss: 0.1398 - val_acc: 0.9888\n",
            "Epoch 16/20\n",
            "28/28 [==============================] - 0s 7ms/step - loss: 9.3016e-09 - acc: 1.0000 - val_loss: 0.1467 - val_acc: 0.9865\n",
            "Epoch 17/20\n",
            "28/28 [==============================] - 0s 8ms/step - loss: 6.2219e-07 - acc: 1.0000 - val_loss: 0.1407 - val_acc: 0.9854\n",
            "Epoch 18/20\n",
            "28/28 [==============================] - 0s 8ms/step - loss: 4.7396e-08 - acc: 1.0000 - val_loss: 0.2203 - val_acc: 0.9854\n",
            "Epoch 19/20\n",
            "28/28 [==============================] - 0s 7ms/step - loss: 4.6367e-05 - acc: 1.0000 - val_loss: 0.1832 - val_acc: 0.9832\n",
            "Epoch 20/20\n",
            "28/28 [==============================] - 0s 7ms/step - loss: 1.4117e-07 - acc: 1.0000 - val_loss: 0.1840 - val_acc: 0.9843\n"
          ]
        }
      ],
      "source": [
        "history = model.fit(x_train, y_train, batch_size=128, epochs=20, validation_split=0.2)"
      ]
    },
    {
      "cell_type": "code",
      "execution_count": null,
      "metadata": {
        "id": "FrLgYYIoAhog",
        "outputId": "4e3df63f-ef7b-4ecc-d7d0-a600948cd520"
      },
      "outputs": [
        {
          "name": "stdout",
          "output_type": "stream",
          "text": [
            "dict_keys(['loss', 'acc', 'val_loss', 'val_acc'])\n"
          ]
        },
        {
          "data": {
            "image/png": "[encoded data removed]",
            "text/plain": [
              "<Figure size 640x480 with 1 Axes>"
            ]
          },
          "metadata": {},
          "output_type": "display_data"
        },
        {
          "data": {
            "image/png": "[encoded data removed]",
            "text/plain": [
              "<Figure size 640x480 with 1 Axes>"
            ]
          },
          "metadata": {},
          "output_type": "display_data"
        }
      ],
      "source": [
        "history_dict = history.history\n",
        "\n",
        "# list all data in history\n",
        "print(history_dict.keys())\n",
        "\n",
        "# summarize history for loss\n",
        "plt.plot(history_dict['loss'])\n",
        "plt.plot(history_dict['val_loss'])\n",
        "plt.title('Training and Validation Loss')\n",
        "plt.ylabel('loss')\n",
        "plt.xlabel('epoch')\n",
        "plt.legend(['train', 'test'], loc='upper left')\n",
        "plt.show()\n",
        "\n",
        "# summarize history for accuracy\n",
        "plt.plot(history_dict['acc'])\n",
        "plt.plot(history_dict['val_acc'])\n",
        "plt.title('Training and Validation Accuracy')\n",
        "plt.ylabel('accuracy')\n",
        "plt.xlabel('epoch')\n",
        "plt.legend(['train', 'test'], loc='upper left')\n",
        "plt.show()"
      ]
    },
    {
      "cell_type": "code",
      "execution_count": null,
      "metadata": {
        "id": "1TAYr_gJAhoi"
      },
      "outputs": [],
      "source": [
        "model.save('/home/user/Downloads/Assignment_4_model.h5')"
      ]
    },
    {
      "cell_type": "code",
      "execution_count": null,
      "metadata": {
        "id": "sBh77cHSAhoj",
        "outputId": "920bfc85-2d9f-439d-bb8d-05eee7fee3fe"
      },
      "outputs": [
        {
          "name": "stdout",
          "output_type": "stream",
          "text": [
            "35/35 [==============================] - 0s 3ms/step - loss: 0.2387 - acc: 0.9794\n",
            "Test set\n",
            "  Loss: 0.239\n",
            "  Accuracy: 0.979\n"
          ]
        }
      ],
      "source": [
        "loaded_model = load_model('/home/user/Downloads/Assignment_4_model.h5')\n",
        "test_loss, test_acc = accr = loaded_model.evaluate(x_test, y_test)\n",
        "print('Test set\\n  Loss: {:0.3f}\\n  Accuracy: {:0.3f}'.format(test_loss, test_acc))"
      ]
    },
    {
      "cell_type": "code",
      "execution_count": null,
      "metadata": {
        "id": "aJ_AH0xJAhok"
      },
      "outputs": [],
      "source": [
        "import numpy as np"
      ]
    },
    {
      "cell_type": "code",
      "execution_count": null,
      "metadata": {
        "id": "LTdoidXXAhok",
        "outputId": "7cde613f-ce1a-472f-db28-7e0a433ec5c3"
      },
      "outputs": [
        {
          "name": "stdout",
          "output_type": "stream",
          "text": [
            "35/35 [==============================] - 0s 2ms/step\n",
            "[[0.004]\n",
            " [0.   ]\n",
            " [0.977]\n",
            " ...\n",
            " [0.   ]\n",
            " [0.   ]\n",
            " [1.   ]]\n"
          ]
        },
        {
          "data": {
            "text/plain": [
              "array([[False],\n",
              "       [False],\n",
              "       [ True],\n",
              "       ...,\n",
              "       [False],\n",
              "       [False],\n",
              "       [ True]])"
            ]
          },
          "execution_count": 53,
          "metadata": {},
          "output_type": "execute_result"
        }
      ],
      "source": [
        "y_pred_prob = loaded_model.predict(x_test)\n",
        "\n",
        "print(np.round(y_pred_prob, 3))\n",
        "y_pred = y_pred_prob > 0.5\n",
        "y_pred"
      ]
    },
    {
      "cell_type": "code",
      "execution_count": null,
      "metadata": {
        "id": "6E-zdFLeAhol",
        "outputId": "e29fd52d-c77b-4af8-b261-6df710d5f69f"
      },
      "outputs": [
        {
          "name": "stdout",
          "output_type": "stream",
          "text": [
            "[0, 0, 0, 0, 0, 0, 0, 0, 0, 0, 0, 0, 0, 0, 0, 0, 0, 0, 0, 0, 0, 1366, 1578, 1432, 19, 7893, 19, 19, 38, 118, 1650, 19, 738, 4, 449, 3023, 35, 1285] => 0 (expected 0)\n",
            "[1, 188, 11, 6440, 2, 7, 1, 135, 2, 28, 12, 4, 290, 7931, 1, 104, 33, 3, 22, 647, 15, 28, 4, 3607, 18, 374, 191, 224, 2137, 107, 433, 9, 74, 10, 5, 1097, 1806, 1171] => 0 (expected 0)\n",
            "[0, 0, 0, 0, 0, 0, 0, 0, 0, 0, 0, 0, 0, 0, 0, 0, 0, 0, 0, 0, 39, 54, 258, 144, 3, 54, 21, 3428, 3, 16, 2, 173, 53, 144, 761, 264, 7182, 208] => 1 (expected 1)\n",
            "[0, 0, 0, 0, 0, 0, 0, 0, 0, 0, 64, 33, 3, 1528, 13, 263, 53, 79, 228, 79, 3, 31, 7, 838, 69, 10, 8, 5, 168, 2, 205, 10, 54, 3, 499, 14, 8, 46] => 0 (expected 0)\n",
            "[0, 0, 0, 0, 0, 0, 0, 0, 0, 0, 0, 0, 0, 0, 715, 29, 357, 532, 622, 15, 1107, 528, 706, 49, 435, 19, 98, 563, 496, 292, 71, 521, 2, 906, 1546, 138, 1200, 2216] => 1 (expected 1)\n"
          ]
        }
      ],
      "source": [
        "for i in range(5):\n",
        "    print('%s => %d (expected %d)' % (x_test[i].tolist(), y_pred[i], y_test[i]))"
      ]
    },
    {
      "cell_type": "code",
      "execution_count": null,
      "metadata": {
        "id": "tkJhTuPkAhom"
      },
      "outputs": [],
      "source": [
        "from sklearn.metrics import classification_report"
      ]
    },
    {
      "cell_type": "code",
      "execution_count": null,
      "metadata": {
        "id": "vYGkA7gIAhom",
        "outputId": "118c3fec-75cd-4352-da04-8a7a9d8fa3d7"
      },
      "outputs": [
        {
          "name": "stdout",
          "output_type": "stream",
          "text": [
            "              precision    recall  f1-score   support\n",
            "\n",
            "           0       0.98      1.00      0.99       965\n",
            "           1       1.00      0.85      0.92       150\n",
            "\n",
            "    accuracy                           0.98      1115\n",
            "   macro avg       0.99      0.92      0.95      1115\n",
            "weighted avg       0.98      0.98      0.98      1115\n",
            "\n"
          ]
        }
      ],
      "source": [
        "print(classification_report(y_test, y_pred))"
      ]
    }
  ],
  "metadata": {
    "colab": {
      "collapsed_sections": [],
      "provenance": []
    },
    "kernelspec": {
      "display_name": "Python 3.10.7 64-bit",
      "language": "python",
      "name": "python3"
    },
    "language_info": {
      "codemirror_mode": {
        "name": "ipython",
        "version": 3
      },
      "file_extension": ".py",
      "mimetype": "text/x-python",
      "name": "python",
      "nbconvert_exporter": "python",
      "pygments_lexer": "ipython3",
      "version": "3.10.8"
    },
    "orig_nbformat": 4,
    "vscode": {
      "interpreter": {
        "hash": "e7370f93d1d0cde622a1f8e1c04877d8463912d04d973331ad4851f04de6915a"
      }
    }
  },
  "nbformat": 4,
  "nbformat_minor": 0
}
